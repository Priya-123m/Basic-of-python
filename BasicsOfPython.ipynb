{
  "nbformat": 4,
  "nbformat_minor": 0,
  "metadata": {
    "colab": {
      "provenance": []
    },
    "kernelspec": {
      "name": "python3",
      "display_name": "Python 3"
    },
    "language_info": {
      "name": "python"
    }
  },
  "cells": [
    {
      "cell_type": "markdown",
      "source": [
        "# Basic of Python\n",
        "\n"
      ],
      "metadata": {
        "id": "qk1jwwvCiJDE"
      }
    },
    {
      "cell_type": "markdown",
      "source": [
        "## data types"
      ],
      "metadata": {
        "id": "mL7mPMIEpQcW"
      }
    },
    {
      "cell_type": "code",
      "execution_count": null,
      "metadata": {
        "colab": {
          "base_uri": "https://localhost:8080/"
        },
        "id": "BIo_sPdZh0ok",
        "outputId": "7af5f443-5e45-45a9-b0f9-9b79413ee31e"
      },
      "outputs": [
        {
          "output_type": "stream",
          "name": "stdout",
          "text": [
            "5\n"
          ]
        },
        {
          "output_type": "execute_result",
          "data": {
            "text/plain": [
              "int"
            ]
          },
          "metadata": {},
          "execution_count": 9
        }
      ],
      "source": [
        "numeric_variable=5 # integers\n",
        "print(numeric_variable)\n",
        "type(numeric_variable)"
      ]
    },
    {
      "cell_type": "code",
      "source": [
        "x=10.25 # decimal numbers\n",
        "print(x)\n",
        "type(x)"
      ],
      "metadata": {
        "colab": {
          "base_uri": "https://localhost:8080/"
        },
        "id": "0sItqSE6iIxN",
        "outputId": "6b32ee92-346f-4ea8-bfec-28f0e5dc8bb5"
      },
      "execution_count": null,
      "outputs": [
        {
          "output_type": "stream",
          "name": "stdout",
          "text": [
            "10.25\n"
          ]
        },
        {
          "output_type": "execute_result",
          "data": {
            "text/plain": [
              "float"
            ]
          },
          "metadata": {},
          "execution_count": 10
        }
      ]
    },
    {
      "cell_type": "code",
      "source": [
        "x=True # boolean\n",
        "print(x)\n",
        "type(x)"
      ],
      "metadata": {
        "colab": {
          "base_uri": "https://localhost:8080/"
        },
        "id": "feJiAh3alf4M",
        "outputId": "f392e996-8b4a-46af-a285-b3c0910c0b4c"
      },
      "execution_count": null,
      "outputs": [
        {
          "output_type": "stream",
          "name": "stdout",
          "text": [
            "True\n"
          ]
        },
        {
          "output_type": "execute_result",
          "data": {
            "text/plain": [
              "bool"
            ]
          },
          "metadata": {},
          "execution_count": 11
        }
      ]
    },
    {
      "cell_type": "code",
      "source": [
        "x='Priyanka' # string\n",
        "print(x)\n",
        "type(x)"
      ],
      "metadata": {
        "colab": {
          "base_uri": "https://localhost:8080/"
        },
        "id": "9pM9xfqklz9A",
        "outputId": "64a7fd5c-c984-4de7-a935-5713f701ea7b"
      },
      "execution_count": null,
      "outputs": [
        {
          "output_type": "stream",
          "name": "stdout",
          "text": [
            "Priyanka\n"
          ]
        },
        {
          "output_type": "execute_result",
          "data": {
            "text/plain": [
              "str"
            ]
          },
          "metadata": {},
          "execution_count": 12
        }
      ]
    },
    {
      "cell_type": "code",
      "source": [
        "x=3+4j # complex numbers\n",
        "print(x)\n",
        "type(x)"
      ],
      "metadata": {
        "colab": {
          "base_uri": "https://localhost:8080/"
        },
        "id": "kCe35I7RmDKl",
        "outputId": "95058c93-e4c2-4c6c-cbd8-08364c00ed67"
      },
      "execution_count": null,
      "outputs": [
        {
          "output_type": "stream",
          "name": "stdout",
          "text": [
            "(3+4j)\n"
          ]
        },
        {
          "output_type": "execute_result",
          "data": {
            "text/plain": [
              "complex"
            ]
          },
          "metadata": {},
          "execution_count": 13
        }
      ]
    },
    {
      "cell_type": "markdown",
      "source": [
        "1. variable is called as symbolic name that refer to a value to be saved in RAM.\n",
        "2. Assignment operator(=)\n",
        "3. variable can comprise of (a-z,A_Z,_,digits)\n",
        "4. variable are case sensitive in nature (for ex- it will not be in small cap letter both A-a)\n",
        "5. variable cannot start with digit.\n",
        "6. dyanamically typed.\n",
        "7. assign multiple variable in one syntax.\n",
        "8. del statement - deleting a variable\n",
        "\n",
        "\n",
        "\n",
        "\n"
      ],
      "metadata": {
        "id": "sH2vBeIKpvzn"
      }
    },
    {
      "cell_type": "markdown",
      "source": [
        "variable in special characters will throw invalid syntax\n",
        "For ex-"
      ],
      "metadata": {
        "id": "EU4RX7Yfr2Kx"
      }
    },
    {
      "cell_type": "code",
      "source": [
        "x@# = 3"
      ],
      "metadata": {
        "colab": {
          "base_uri": "https://localhost:8080/",
          "height": 106
        },
        "id": "hhH6lyjvsGa1",
        "outputId": "0606e483-c043-4b89-ec11-8f2882adad12"
      },
      "execution_count": null,
      "outputs": [
        {
          "output_type": "error",
          "ename": "SyntaxError",
          "evalue": "invalid syntax (<ipython-input-15-af8b75c2434c>, line 1)",
          "traceback": [
            "\u001b[0;36m  File \u001b[0;32m\"<ipython-input-15-af8b75c2434c>\"\u001b[0;36m, line \u001b[0;32m1\u001b[0m\n\u001b[0;31m    x@# = 3\u001b[0m\n\u001b[0m      ^\u001b[0m\n\u001b[0;31mSyntaxError\u001b[0m\u001b[0;31m:\u001b[0m invalid syntax\n"
          ]
        }
      ]
    },
    {
      "cell_type": "markdown",
      "source": [
        "variable uses as cap letter and small will throw error as undefined.\n"
      ],
      "metadata": {
        "id": "HGYOdyhPtpz_"
      }
    },
    {
      "cell_type": "code",
      "source": [
        "x=5\n",
        "print(X)"
      ],
      "metadata": {
        "colab": {
          "base_uri": "https://localhost:8080/"
        },
        "id": "vdUzRTINtIUQ",
        "outputId": "2e7a3f22-82fb-4d23-a1b9-8d859a4283c0"
      },
      "execution_count": null,
      "outputs": [
        {
          "output_type": "stream",
          "name": "stdout",
          "text": [
            "re.VERBOSE\n"
          ]
        }
      ]
    },
    {
      "cell_type": "markdown",
      "source": [
        "Variable cannot start with digit for ex-"
      ],
      "metadata": {
        "id": "-XfH_vntuG9x"
      }
    },
    {
      "cell_type": "code",
      "source": [
        "9variable=3"
      ],
      "metadata": {
        "colab": {
          "base_uri": "https://localhost:8080/",
          "height": 106
        },
        "id": "znyhuRJdt4_t",
        "outputId": "71f7f34b-5b30-404d-b5c5-f03ae352d30f"
      },
      "execution_count": null,
      "outputs": [
        {
          "output_type": "error",
          "ename": "SyntaxError",
          "evalue": "invalid decimal literal (<ipython-input-27-cf91441c2195>, line 1)",
          "traceback": [
            "\u001b[0;36m  File \u001b[0;32m\"<ipython-input-27-cf91441c2195>\"\u001b[0;36m, line \u001b[0;32m1\u001b[0m\n\u001b[0;31m    9variable=3\u001b[0m\n\u001b[0m    ^\u001b[0m\n\u001b[0;31mSyntaxError\u001b[0m\u001b[0;31m:\u001b[0m invalid decimal literal\n"
          ]
        }
      ]
    },
    {
      "cell_type": "markdown",
      "source": [
        "assign multiple variable in one syntax For ex-"
      ],
      "metadata": {
        "id": "Ra1wq49OuoZp"
      }
    },
    {
      "cell_type": "code",
      "source": [
        "a, b, c = 1, 2, 3\n",
        "print(a,b,c)"
      ],
      "metadata": {
        "colab": {
          "base_uri": "https://localhost:8080/"
        },
        "id": "f6d7ruJluOlq",
        "outputId": "3005e1ce-521f-4cae-c155-d03ce9cfc849"
      },
      "execution_count": null,
      "outputs": [
        {
          "output_type": "stream",
          "name": "stdout",
          "text": [
            "1 2 3\n"
          ]
        }
      ]
    },
    {
      "cell_type": "markdown",
      "source": [
        "del statement - deleting a variable for ex-\n"
      ],
      "metadata": {
        "id": "2EQSTR5MvM2d"
      }
    },
    {
      "cell_type": "code",
      "source": [
        "del x"
      ],
      "metadata": {
        "id": "0KywtqrCvTHh"
      },
      "execution_count": null,
      "outputs": []
    },
    {
      "cell_type": "markdown",
      "source": [
        "## Basics Of Operations"
      ],
      "metadata": {
        "id": "OU6km2jxvgwf"
      }
    },
    {
      "cell_type": "code",
      "source": [
        "a=5\n",
        "b=2\n",
        "print(a+b) # addition\n",
        "print(a-b) # subtraction\n",
        "print(a*b) # multiplication\n",
        "print(a/b) # Division (decimal values)\n",
        "print(a//b) # Floor Division nearest whole down number round figure.\n",
        "print(a**b) # a to the power b #exponentation\n",
        "print(a%b) # modulus operator a is divided by b what reminder comes up that will be the answer"
      ],
      "metadata": {
        "colab": {
          "base_uri": "https://localhost:8080/"
        },
        "id": "pKXe7A2_v1A4",
        "outputId": "49ed71d0-47ff-4328-d127-8b9b95da42fa"
      },
      "execution_count": null,
      "outputs": [
        {
          "output_type": "stream",
          "name": "stdout",
          "text": [
            "7\n",
            "3\n",
            "10\n",
            "2.5\n",
            "2\n",
            "25\n",
            "1\n"
          ]
        }
      ]
    },
    {
      "cell_type": "markdown",
      "source": [
        "## String Operation"
      ],
      "metadata": {
        "id": "OqGYDhV52cl9"
      }
    },
    {
      "cell_type": "code",
      "source": [
        "str1 = \"Hello\"\n",
        "str2 = \" World\"\n",
        "print (str1 + str2) # Concatenation"
      ],
      "metadata": {
        "colab": {
          "base_uri": "https://localhost:8080/"
        },
        "id": "MR7ur-E3zBqv",
        "outputId": "b5422f77-af89-45eb-e7a0-e89a2f8b6ab1"
      },
      "execution_count": null,
      "outputs": [
        {
          "output_type": "stream",
          "name": "stdout",
          "text": [
            "Hello World\n"
          ]
        }
      ]
    },
    {
      "cell_type": "code",
      "source": [
        "# repetation\n",
        "str1 = \" abc \"\n",
        "print(str1 * 3)"
      ],
      "metadata": {
        "colab": {
          "base_uri": "https://localhost:8080/"
        },
        "id": "u3Z8uAoS0nXS",
        "outputId": "3c6240fa-5a56-4ead-e3ff-e2a3aa198376"
      },
      "execution_count": null,
      "outputs": [
        {
          "output_type": "stream",
          "name": "stdout",
          "text": [
            " abc  abc  abc \n"
          ]
        }
      ]
    },
    {
      "cell_type": "code",
      "source": [
        "# indexing\n",
        "str1 = \"Hello World\" # indexing start with 0\n",
        "print(str1[0])\n",
        "print(str1[-5])\n",
        "print(str1[-1])"
      ],
      "metadata": {
        "colab": {
          "base_uri": "https://localhost:8080/"
        },
        "id": "vNpsNICv1ylj",
        "outputId": "c4784ec9-ee12-41d6-eb51-58889edbcc82"
      },
      "execution_count": null,
      "outputs": [
        {
          "output_type": "stream",
          "name": "stdout",
          "text": [
            "H\n",
            "W\n",
            "d\n"
          ]
        }
      ]
    },
    {
      "cell_type": "markdown",
      "source": [
        "H E l l o W O R L D\n",
        "1 2 3 4 5 6 7 8 9 10\n",
        "            -3 -2 -1"
      ],
      "metadata": {
        "id": "Aagb5PS12E-A"
      }
    },
    {
      "cell_type": "code",
      "source": [
        "# slicing\n",
        "str1 = \"Hello World\" # indexing start with 0\n",
        "print(str1[1:4]) # string will start populating characters excatly at index 1 and till index 3 it will populate the characters.\n",
        "# startindex : endindex\n",
        "# endindex consider exclusive in nature"
      ],
      "metadata": {
        "colab": {
          "base_uri": "https://localhost:8080/"
        },
        "id": "z1PH7jZO45MP",
        "outputId": "02fad71c-52a6-4237-e2b6-8b327ce3610c"
      },
      "execution_count": null,
      "outputs": [
        {
          "output_type": "stream",
          "name": "stdout",
          "text": [
            "ell\n"
          ]
        }
      ]
    },
    {
      "cell_type": "code",
      "source": [
        "print(str1[:4]) # by default left side start with 0"
      ],
      "metadata": {
        "colab": {
          "base_uri": "https://localhost:8080/"
        },
        "id": "uy4XRmhe7FUK",
        "outputId": "e89acdd8-2c10-4e9e-be2b-ba627819d910"
      },
      "execution_count": null,
      "outputs": [
        {
          "output_type": "stream",
          "name": "stdout",
          "text": [
            "Hell\n"
          ]
        }
      ]
    },
    {
      "cell_type": "code",
      "source": [
        "print(str1[4:]) # by default it goes to last character of the string"
      ],
      "metadata": {
        "colab": {
          "base_uri": "https://localhost:8080/"
        },
        "id": "oMN07Knh7hWN",
        "outputId": "7b12df2b-fb38-497a-d1fa-089538c45f05"
      },
      "execution_count": null,
      "outputs": [
        {
          "output_type": "stream",
          "name": "stdout",
          "text": [
            "o World\n"
          ]
        }
      ]
    },
    {
      "cell_type": "code",
      "source": [
        "len(str1) # length of string"
      ],
      "metadata": {
        "colab": {
          "base_uri": "https://localhost:8080/"
        },
        "id": "hASIBcy970Uk",
        "outputId": "af4df54a-d42a-4a48-b874-0c52cffcea44"
      },
      "execution_count": null,
      "outputs": [
        {
          "output_type": "execute_result",
          "data": {
            "text/plain": [
              "11"
            ]
          },
          "metadata": {},
          "execution_count": 12
        }
      ]
    },
    {
      "cell_type": "code",
      "source": [
        "## python based string methods\n",
        "result = \"python programming\"\n",
        "print(result.upper())\n",
        "print(result.lower())\n",
        "print(result.strip())  # remove whitespaces from both the ends"
      ],
      "metadata": {
        "id": "d-ALBLq18CZZ",
        "colab": {
          "base_uri": "https://localhost:8080/"
        },
        "outputId": "66be0d49-2dc2-4438-ee38-62b85067a07b"
      },
      "execution_count": 15,
      "outputs": [
        {
          "output_type": "stream",
          "name": "stdout",
          "text": [
            "PYTHON PROGRAMMING\n",
            "python programming\n",
            "python programming\n"
          ]
        }
      ]
    },
    {
      "cell_type": "code",
      "source": [
        "## formatting strings using placeholder\n",
        "name = input('Enter your name')\n",
        "age = input('Enter your age')\n",
        "result = \"My name is {} and I am {} year old\".format(name, age)\n",
        "print(result)"
      ],
      "metadata": {
        "colab": {
          "base_uri": "https://localhost:8080/"
        },
        "id": "lT7p94mya0X6",
        "outputId": "33b441f8-ddd8-42dc-debf-5809fb7d3d89"
      },
      "execution_count": 16,
      "outputs": [
        {
          "output_type": "stream",
          "name": "stdout",
          "text": [
            "Enter your namePriyanka\n",
            "Enter your age26\n",
            "My name is Priyanka and I am 26 year old\n"
          ]
        }
      ]
    },
    {
      "cell_type": "markdown",
      "source": [
        "## Data Structures"
      ],
      "metadata": {
        "id": "XGLrdEyAfrVi"
      }
    },
    {
      "cell_type": "markdown",
      "source": [
        "1. List\n",
        "Versatile and mutable (changeable) DS that allows you to create, update, delete and perform any operations, ordered elements of different data types."
      ],
      "metadata": {
        "id": "GXyRv24Eghns"
      }
    },
    {
      "cell_type": "code",
      "source": [
        "list1 = [1,2,3, \"apple\",\"banana\"] # different data types\n",
        "print(list1)"
      ],
      "metadata": {
        "colab": {
          "base_uri": "https://localhost:8080/"
        },
        "id": "8Rxu-OLahqXU",
        "outputId": "3da95f42-6461-4d05-a108-9c2345768148"
      },
      "execution_count": 19,
      "outputs": [
        {
          "output_type": "stream",
          "name": "stdout",
          "text": [
            "[1, 2, 3, 'apple', 'banana']\n"
          ]
        }
      ]
    },
    {
      "cell_type": "code",
      "source": [
        "list1[0] #indexing"
      ],
      "metadata": {
        "colab": {
          "base_uri": "https://localhost:8080/"
        },
        "id": "y1ekGmAciJOb",
        "outputId": "73955747-3837-4052-f6e2-e572db496e88"
      },
      "execution_count": 20,
      "outputs": [
        {
          "output_type": "execute_result",
          "data": {
            "text/plain": [
              "1"
            ]
          },
          "metadata": {},
          "execution_count": 20
        }
      ]
    },
    {
      "cell_type": "code",
      "source": [
        "list1[:4] #slicing"
      ],
      "metadata": {
        "colab": {
          "base_uri": "https://localhost:8080/"
        },
        "id": "LeXEFo6Eixpa",
        "outputId": "a2328e40-40e4-4819-bd71-4c6d07542e7d"
      },
      "execution_count": 21,
      "outputs": [
        {
          "output_type": "execute_result",
          "data": {
            "text/plain": [
              "[1, 2, 3, 'apple']"
            ]
          },
          "metadata": {},
          "execution_count": 21
        }
      ]
    },
    {
      "cell_type": "code",
      "source": [
        "list1.append(\"grapes\") # adding grapes at the end of the list\n",
        "list1"
      ],
      "metadata": {
        "colab": {
          "base_uri": "https://localhost:8080/"
        },
        "id": "Pfv8LoWdi5WC",
        "outputId": "2765d646-bf0c-4a63-d67a-3b304815d334"
      },
      "execution_count": 23,
      "outputs": [
        {
          "output_type": "execute_result",
          "data": {
            "text/plain": [
              "[1, 2, 3, 'apple', 'banana', 'grapes']"
            ]
          },
          "metadata": {},
          "execution_count": 23
        }
      ]
    },
    {
      "cell_type": "code",
      "source": [
        "list1.insert(3,\"Kiwi\") # adding kiwi at index 3 insert (indexposition, element value)\n",
        "list1"
      ],
      "metadata": {
        "colab": {
          "base_uri": "https://localhost:8080/"
        },
        "id": "FaIJZz_VjgIj",
        "outputId": "df09fc00-4a80-48a4-a7df-dc72970e72e9"
      },
      "execution_count": 24,
      "outputs": [
        {
          "output_type": "execute_result",
          "data": {
            "text/plain": [
              "[1, 2, 3, 'Kiwi', 'apple', 'banana', 'grapes']"
            ]
          },
          "metadata": {},
          "execution_count": 24
        }
      ]
    },
    {
      "cell_type": "code",
      "source": [
        "list2 = [] #list can be empty in nature\n",
        "print(list2)"
      ],
      "metadata": {
        "colab": {
          "base_uri": "https://localhost:8080/"
        },
        "id": "TZGxe6nqkWOU",
        "outputId": "fe7336f7-d8f3-4b4a-f0e9-df60b9dbda50"
      },
      "execution_count": 25,
      "outputs": [
        {
          "output_type": "stream",
          "name": "stdout",
          "text": [
            "[]\n"
          ]
        }
      ]
    },
    {
      "cell_type": "code",
      "source": [
        "list1.remove(1) # remove element value\n",
        "list1"
      ],
      "metadata": {
        "colab": {
          "base_uri": "https://localhost:8080/"
        },
        "id": "N75G1S3FlCSZ",
        "outputId": "19ec8a6a-fa5e-40d9-eb64-ae07a4c6f671"
      },
      "execution_count": 26,
      "outputs": [
        {
          "output_type": "execute_result",
          "data": {
            "text/plain": [
              "[2, 3, 'Kiwi', 'apple', 'banana', 'grapes']"
            ]
          },
          "metadata": {},
          "execution_count": 26
        }
      ]
    },
    {
      "cell_type": "code",
      "source": [
        "fruits = (\"mangoes\",\"oranges\")\n",
        "list1.extend(fruits) # extend method can add fruit element directly into the list\n",
        "list1"
      ],
      "metadata": {
        "colab": {
          "base_uri": "https://localhost:8080/"
        },
        "id": "oZPGJkrGld4e",
        "outputId": "4bb3b51a-11df-47bd-df4a-278f13a6be4c"
      },
      "execution_count": 28,
      "outputs": [
        {
          "output_type": "execute_result",
          "data": {
            "text/plain": [
              "[2, 3, 'Kiwi', 'apple', 'banana', 'grapes', 'mangoes', 'oranges']"
            ]
          },
          "metadata": {},
          "execution_count": 28
        }
      ]
    },
    {
      "cell_type": "code",
      "source": [
        "len(list1)"
      ],
      "metadata": {
        "colab": {
          "base_uri": "https://localhost:8080/"
        },
        "id": "fb1zWEm3mSGc",
        "outputId": "3922cd2b-4f7d-4b30-937c-f6ccbe2ba2f6"
      },
      "execution_count": 29,
      "outputs": [
        {
          "output_type": "execute_result",
          "data": {
            "text/plain": [
              "8"
            ]
          },
          "metadata": {},
          "execution_count": 29
        }
      ]
    },
    {
      "cell_type": "code",
      "source": [
        "list1.pop(1) #remove an element present at index 1"
      ],
      "metadata": {
        "colab": {
          "base_uri": "https://localhost:8080/"
        },
        "id": "qUUDpSNSmqpx",
        "outputId": "388ce54a-cb42-45c8-85ca-f7eaa7be4a47"
      },
      "execution_count": 30,
      "outputs": [
        {
          "output_type": "execute_result",
          "data": {
            "text/plain": [
              "3"
            ]
          },
          "metadata": {},
          "execution_count": 30
        }
      ]
    },
    {
      "cell_type": "code",
      "source": [
        "list1"
      ],
      "metadata": {
        "colab": {
          "base_uri": "https://localhost:8080/"
        },
        "id": "c5vzFRkvmvx_",
        "outputId": "6f01055a-5035-4d94-ae18-01ce5bae0e07"
      },
      "execution_count": 31,
      "outputs": [
        {
          "output_type": "execute_result",
          "data": {
            "text/plain": [
              "[2, 'Kiwi', 'apple', 'banana', 'grapes', 'mangoes', 'oranges']"
            ]
          },
          "metadata": {},
          "execution_count": 31
        }
      ]
    },
    {
      "cell_type": "markdown",
      "source": [
        "## Tuples\n"
      ],
      "metadata": {
        "id": "Nv32vu-VnbNG"
      }
    },
    {
      "cell_type": "markdown",
      "source": [
        "Ordered, but not changeable in nature, immutable, multiple data types. ()"
      ],
      "metadata": {
        "id": "2GY-hOqjne87"
      }
    },
    {
      "cell_type": "code",
      "source": [
        "My_tuple = (1,2,3,\"apples\")\n",
        "My_tuple\n"
      ],
      "metadata": {
        "colab": {
          "base_uri": "https://localhost:8080/"
        },
        "id": "JqsFpfP8oV9W",
        "outputId": "a28b457d-cac6-4fb7-b464-84f5cddd9166"
      },
      "execution_count": 32,
      "outputs": [
        {
          "output_type": "execute_result",
          "data": {
            "text/plain": [
              "(1, 2, 3, 'apples')"
            ]
          },
          "metadata": {},
          "execution_count": 32
        }
      ]
    },
    {
      "cell_type": "code",
      "source": [
        "My_tuple(0) = 5 #modifications are not allowed in tuples"
      ],
      "metadata": {
        "colab": {
          "base_uri": "https://localhost:8080/",
          "height": 106
        },
        "id": "YVlltA1apEXz",
        "outputId": "7eaab33c-b4a1-4d37-9447-1918b155c175"
      },
      "execution_count": 33,
      "outputs": [
        {
          "output_type": "error",
          "ename": "SyntaxError",
          "evalue": "cannot assign to function call here. Maybe you meant '==' instead of '='? (<ipython-input-33-28285edbb252>, line 1)",
          "traceback": [
            "\u001b[0;36m  File \u001b[0;32m\"<ipython-input-33-28285edbb252>\"\u001b[0;36m, line \u001b[0;32m1\u001b[0m\n\u001b[0;31m    My_tuple(0) = 5\u001b[0m\n\u001b[0m    ^\u001b[0m\n\u001b[0;31mSyntaxError\u001b[0m\u001b[0;31m:\u001b[0m cannot assign to function call here. Maybe you meant '==' instead of '='?\n"
          ]
        }
      ]
    },
    {
      "cell_type": "code",
      "source": [
        "My_tuple[0] #indexing"
      ],
      "metadata": {
        "colab": {
          "base_uri": "https://localhost:8080/"
        },
        "id": "yRAQwS2vpLOe",
        "outputId": "9a9614a7-0af9-41df-cd32-449ee0dc5586"
      },
      "execution_count": 35,
      "outputs": [
        {
          "output_type": "execute_result",
          "data": {
            "text/plain": [
              "1"
            ]
          },
          "metadata": {},
          "execution_count": 35
        }
      ]
    },
    {
      "cell_type": "code",
      "source": [
        "My_tuple[:4] #slicing"
      ],
      "metadata": {
        "colab": {
          "base_uri": "https://localhost:8080/"
        },
        "id": "TPSN5pIfpnQT",
        "outputId": "f3b54697-ab97-4c6d-b64d-0e088013b002"
      },
      "execution_count": 36,
      "outputs": [
        {
          "output_type": "execute_result",
          "data": {
            "text/plain": [
              "(1, 2, 3, 'apples')"
            ]
          },
          "metadata": {},
          "execution_count": 36
        }
      ]
    },
    {
      "cell_type": "code",
      "source": [
        "len(My_tuple)"
      ],
      "metadata": {
        "colab": {
          "base_uri": "https://localhost:8080/"
        },
        "id": "o_recKrwpxAc",
        "outputId": "d7245f3a-f298-4e2b-dcea-50f185426d20"
      },
      "execution_count": 37,
      "outputs": [
        {
          "output_type": "execute_result",
          "data": {
            "text/plain": [
              "4"
            ]
          },
          "metadata": {},
          "execution_count": 37
        }
      ]
    },
    {
      "cell_type": "markdown",
      "source": [
        "## Sets"
      ],
      "metadata": {
        "id": "9hy4xvGaqYAZ"
      }
    },
    {
      "cell_type": "markdown",
      "source": [
        "unordered collection of elements, unique, {}, mutable"
      ],
      "metadata": {
        "id": "7_DpIBj3qa2t"
      }
    },
    {
      "cell_type": "code",
      "source": [
        "my_set = {1,2,3, \"apples\",\"apples\"}\n",
        "my_set"
      ],
      "metadata": {
        "colab": {
          "base_uri": "https://localhost:8080/"
        },
        "id": "GE7x7FsFrEzP",
        "outputId": "01fb6552-cbb5-4617-e1cb-da24d42ef7a6"
      },
      "execution_count": 38,
      "outputs": [
        {
          "output_type": "execute_result",
          "data": {
            "text/plain": [
              "{1, 2, 3, 'apples'}"
            ]
          },
          "metadata": {},
          "execution_count": 38
        }
      ]
    },
    {
      "cell_type": "code",
      "source": [
        "my_set.add(\"orange\")\n",
        "my_set"
      ],
      "metadata": {
        "colab": {
          "base_uri": "https://localhost:8080/"
        },
        "id": "2c2W6TlArzfR",
        "outputId": "3e8df0ad-e89f-49e8-867f-6a4aa0aaa446"
      },
      "execution_count": 39,
      "outputs": [
        {
          "output_type": "execute_result",
          "data": {
            "text/plain": [
              "{1, 2, 3, 'apples', 'orange'}"
            ]
          },
          "metadata": {},
          "execution_count": 39
        }
      ]
    },
    {
      "cell_type": "code",
      "source": [
        "my_set.remove(1)\n",
        "my_set"
      ],
      "metadata": {
        "colab": {
          "base_uri": "https://localhost:8080/"
        },
        "id": "SR4lSR8Er_04",
        "outputId": "811fdf3c-9aa5-4380-dea9-eebc1c275139"
      },
      "execution_count": 40,
      "outputs": [
        {
          "output_type": "execute_result",
          "data": {
            "text/plain": [
              "{2, 3, 'apples', 'orange'}"
            ]
          },
          "metadata": {},
          "execution_count": 40
        }
      ]
    },
    {
      "cell_type": "code",
      "source": [
        "set1 = {1,2,3}\n",
        "set2 = {3,4,5}\n",
        "print(set1.union(set2))"
      ],
      "metadata": {
        "colab": {
          "base_uri": "https://localhost:8080/"
        },
        "id": "NxgoGWdxsQw-",
        "outputId": "33add80e-a7ea-4c8e-e789-b3e078f73580"
      },
      "execution_count": 2,
      "outputs": [
        {
          "output_type": "stream",
          "name": "stdout",
          "text": [
            "{1, 2, 3, 4, 5}\n"
          ]
        }
      ]
    },
    {
      "cell_type": "code",
      "source": [
        "print(set1.intersection(set2))"
      ],
      "metadata": {
        "colab": {
          "base_uri": "https://localhost:8080/"
        },
        "id": "pH4blbSFqB1h",
        "outputId": "63cc8fe6-644e-4802-f110-ec5cb32e9f03"
      },
      "execution_count": 4,
      "outputs": [
        {
          "output_type": "stream",
          "name": "stdout",
          "text": [
            "{3}\n"
          ]
        }
      ]
    },
    {
      "cell_type": "code",
      "source": [
        "print(set1.difference(set2))"
      ],
      "metadata": {
        "colab": {
          "base_uri": "https://localhost:8080/"
        },
        "id": "NFohi7JMqPbK",
        "outputId": "49ec9f3f-de30-45b1-9594-91f0bf972fdf"
      },
      "execution_count": 5,
      "outputs": [
        {
          "output_type": "stream",
          "name": "stdout",
          "text": [
            "{1, 2}\n"
          ]
        }
      ]
    },
    {
      "cell_type": "code",
      "source": [
        "print(set1.symmetric_difference(set2))"
      ],
      "metadata": {
        "colab": {
          "base_uri": "https://localhost:8080/"
        },
        "id": "NS6DgQ_Eq4vB",
        "outputId": "03e22624-6456-499c-c464-a1cb61a5e8da"
      },
      "execution_count": 6,
      "outputs": [
        {
          "output_type": "stream",
          "name": "stdout",
          "text": [
            "{1, 2, 4, 5}\n"
          ]
        }
      ]
    },
    {
      "cell_type": "markdown",
      "source": [
        "## Dictionaries\n"
      ],
      "metadata": {
        "id": "WCBC4WVyrJhh"
      }
    },
    {
      "cell_type": "markdown",
      "source": [
        "unordered collections, key value pairs, each key has to be unique, value can be duplicate. {}"
      ],
      "metadata": {
        "id": "V8zWTIqJrTnF"
      }
    },
    {
      "cell_type": "code",
      "source": [
        "my_dict = {'name':'Priyanka', 'age':'26'}\n",
        "my_dict"
      ],
      "metadata": {
        "colab": {
          "base_uri": "https://localhost:8080/"
        },
        "id": "XedHp-_-r1lb",
        "outputId": "679e7181-ecaf-4c59-8a71-9bcbf5f2f88c"
      },
      "execution_count": 8,
      "outputs": [
        {
          "output_type": "execute_result",
          "data": {
            "text/plain": [
              "{'name': 'Priyanka', 'age': '26'}"
            ]
          },
          "metadata": {},
          "execution_count": 8
        }
      ]
    },
    {
      "cell_type": "code",
      "source": [
        "my_dict['name'] # use square bracket and mention key in single quote or double quote"
      ],
      "metadata": {
        "colab": {
          "base_uri": "https://localhost:8080/",
          "height": 35
        },
        "id": "tK-VbOKpsWeB",
        "outputId": "5372d9bc-cdda-497e-b063-610ef2972789"
      },
      "execution_count": 13,
      "outputs": [
        {
          "output_type": "execute_result",
          "data": {
            "text/plain": [
              "'Priyanka'"
            ],
            "application/vnd.google.colaboratory.intrinsic+json": {
              "type": "string"
            }
          },
          "metadata": {},
          "execution_count": 13
        }
      ]
    },
    {
      "cell_type": "code",
      "source": [
        "my_dict['city'] = 'Banglore' # addingcity into dictonary\n",
        "print(my_dict)"
      ],
      "metadata": {
        "colab": {
          "base_uri": "https://localhost:8080/"
        },
        "id": "YHp0XbntsWQl",
        "outputId": "110640b6-7302-4017-ea44-729d41fcca85"
      },
      "execution_count": 14,
      "outputs": [
        {
          "output_type": "stream",
          "name": "stdout",
          "text": [
            "{'name': 'Priyanka', 'age': '26', 'city': 'Banglore'}\n"
          ]
        }
      ]
    },
    {
      "cell_type": "code",
      "source": [
        "my_dict.update({'country':'India'}) #adding country into dictonary\n",
        "print(my_dict)"
      ],
      "metadata": {
        "colab": {
          "base_uri": "https://localhost:8080/"
        },
        "id": "QA92yyJutogD",
        "outputId": "98d749b4-7f46-482d-b685-a314d832df35"
      },
      "execution_count": 15,
      "outputs": [
        {
          "output_type": "stream",
          "name": "stdout",
          "text": [
            "{'name': 'Priyanka', 'age': '26', 'city': 'Banglore', 'country': 'India'}\n"
          ]
        }
      ]
    },
    {
      "cell_type": "code",
      "source": [
        "del my_dict['country']\n",
        "my_dict"
      ],
      "metadata": {
        "colab": {
          "base_uri": "https://localhost:8080/"
        },
        "id": "YOLPpvOluEyc",
        "outputId": "69621fcd-bfa3-4f01-ff87-d93c297b3de8"
      },
      "execution_count": 16,
      "outputs": [
        {
          "output_type": "execute_result",
          "data": {
            "text/plain": [
              "{'name': 'Priyanka', 'age': '26', 'city': 'Banglore'}"
            ]
          },
          "metadata": {},
          "execution_count": 16
        }
      ]
    },
    {
      "cell_type": "code",
      "source": [
        "print('city' in my_dict) #checking the presence of the key\n",
        "print('address' in my_dict)"
      ],
      "metadata": {
        "colab": {
          "base_uri": "https://localhost:8080/"
        },
        "id": "tFrLbNQ5ujdT",
        "outputId": "3dc42f4e-80f2-43c7-a0f5-f4335e27e772"
      },
      "execution_count": 18,
      "outputs": [
        {
          "output_type": "stream",
          "name": "stdout",
          "text": [
            "True\n",
            "False\n"
          ]
        }
      ]
    },
    {
      "cell_type": "code",
      "source": [
        "my_dict.keys() #list of keys"
      ],
      "metadata": {
        "colab": {
          "base_uri": "https://localhost:8080/"
        },
        "id": "SjfzRLhYuqKa",
        "outputId": "a73facd8-2337-4eb3-b698-8fd039684ab4"
      },
      "execution_count": 19,
      "outputs": [
        {
          "output_type": "execute_result",
          "data": {
            "text/plain": [
              "dict_keys(['name', 'age', 'city'])"
            ]
          },
          "metadata": {},
          "execution_count": 19
        }
      ]
    },
    {
      "cell_type": "code",
      "source": [
        "my_dict.values() #list of values"
      ],
      "metadata": {
        "colab": {
          "base_uri": "https://localhost:8080/"
        },
        "id": "ZPoLBtTPvAgw",
        "outputId": "66bb0f8c-440e-44b9-fdd2-77b710762b44"
      },
      "execution_count": 20,
      "outputs": [
        {
          "output_type": "execute_result",
          "data": {
            "text/plain": [
              "dict_values(['Priyanka', '26', 'Banglore'])"
            ]
          },
          "metadata": {},
          "execution_count": 20
        }
      ]
    },
    {
      "cell_type": "code",
      "source": [
        "for key, value in my_dict.items():\n",
        "  print(key , value)"
      ],
      "metadata": {
        "colab": {
          "base_uri": "https://localhost:8080/"
        },
        "id": "eRixHulVvh_6",
        "outputId": "db1d3099-433f-4bd1-c8c6-56db56b6a993"
      },
      "execution_count": 22,
      "outputs": [
        {
          "output_type": "stream",
          "name": "stdout",
          "text": [
            "name Priyanka\n",
            "age 26\n",
            "city Banglore\n"
          ]
        }
      ]
    },
    {
      "cell_type": "code",
      "source": [
        "my_dict.items() #list of tuples of key-value pairs"
      ],
      "metadata": {
        "colab": {
          "base_uri": "https://localhost:8080/"
        },
        "id": "TIW6397LwP-h",
        "outputId": "42c0aeeb-ca8a-4c1b-ee8d-769a640cb777"
      },
      "execution_count": 23,
      "outputs": [
        {
          "output_type": "execute_result",
          "data": {
            "text/plain": [
              "dict_items([('name', 'Priyanka'), ('age', '26'), ('city', 'Banglore')])"
            ]
          },
          "metadata": {},
          "execution_count": 23
        }
      ]
    },
    {
      "cell_type": "code",
      "source": [],
      "metadata": {
        "id": "oUbFEodtw0kR"
      },
      "execution_count": null,
      "outputs": []
    }
  ]
}